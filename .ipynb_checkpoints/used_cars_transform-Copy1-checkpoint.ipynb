{
 "cells": [
  {
   "cell_type": "markdown",
   "id": "198fce89-24ef-4f70-9463-e94ebffa61fa",
   "metadata": {},
   "source": [
    "# Used Cars Transform"
   ]
  },
  {
   "cell_type": "code",
   "execution_count": 1,
   "id": "a2422e37-e318-41ba-850c-f0423dcc5d51",
   "metadata": {},
   "outputs": [
    {
     "name": "stderr",
     "output_type": "stream",
     "text": [
      "C:\\Users\\sampi\\AppData\\Local\\Packages\\PythonSoftwareFoundation.Python.3.11_qbz5n2kfra8p0\\LocalCache\\local-packages\\Python311\\site-packages\\fuzzywuzzy\\fuzz.py:11: UserWarning: Using slow pure-python SequenceMatcher. Install python-Levenshtein to remove this warning\n",
      "  warnings.warn('Using slow pure-python SequenceMatcher. Install python-Levenshtein to remove this warning')\n"
     ]
    }
   ],
   "source": [
    "import json\n",
    "import random\n",
    "import numpy as np\n",
    "import pandas as pd\n",
    "import seaborn as sns\n",
    "import matplotlib.pyplot as plt\n",
    "import psycopg2\n",
    "from uszipcode import SearchEngine\n",
    "import warnings\n",
    "\n",
    "# Append the '../utils' directory to the sys.path for module imports\n",
    "import sys\n",
    "sys.path.append('./../utils')\n",
    "\n",
    "# Ignore warnings\n",
    "warnings.filterwarnings('ignore')\n",
    "\n",
    "# Import custom database operations module\n",
    "import db_operations"
   ]
  },
  {
   "cell_type": "markdown",
   "id": "ed30fef7-20b3-441b-91dd-6f5f230528a2",
   "metadata": {},
   "source": [
    "## Load the data"
   ]
  },
  {
   "cell_type": "code",
   "execution_count": 45,
   "id": "50f2c132-d55b-4293-a4b9-7fccc225325e",
   "metadata": {},
   "outputs": [
    {
     "name": "stdout",
     "output_type": "stream",
     "text": [
      "Conexión exitosa!!\n"
     ]
    }
   ],
   "source": [
    "sql='''SELECT *\n",
    "FROM used_cars\n",
    "'''\n",
    "cars_df = db_operations.run_query(sql)"
   ]
  },
  {
   "cell_type": "markdown",
   "id": "b4700305-83f3-46eb-91c1-aa5d8137ac50",
   "metadata": {},
   "source": [
    "**Display the first few rows of the DataFrame**"
   ]
  },
  {
   "cell_type": "code",
   "execution_count": 46,
   "id": "66f534ec-3efd-429d-8cab-92626c3ffe00",
   "metadata": {},
   "outputs": [
    {
     "data": {
      "text/html": [
       "<div>\n",
       "<style scoped>\n",
       "    .dataframe tbody tr th:only-of-type {\n",
       "        vertical-align: middle;\n",
       "    }\n",
       "\n",
       "    .dataframe tbody tr th {\n",
       "        vertical-align: top;\n",
       "    }\n",
       "\n",
       "    .dataframe thead th {\n",
       "        text-align: right;\n",
       "    }\n",
       "</style>\n",
       "<table border=\"1\" class=\"dataframe\">\n",
       "  <thead>\n",
       "    <tr style=\"text-align: right;\">\n",
       "      <th></th>\n",
       "      <th>vin</th>\n",
       "      <th>back_legroom</th>\n",
       "      <th>bed</th>\n",
       "      <th>bed_height</th>\n",
       "      <th>bed_length</th>\n",
       "      <th>body_type</th>\n",
       "      <th>cabin</th>\n",
       "      <th>city</th>\n",
       "      <th>city_fuel_economy</th>\n",
       "      <th>combine_fuel_economy</th>\n",
       "      <th>...</th>\n",
       "      <th>transmission</th>\n",
       "      <th>transmission_display</th>\n",
       "      <th>trimid</th>\n",
       "      <th>trim_name</th>\n",
       "      <th>vehicle_damage_category</th>\n",
       "      <th>wheel_system</th>\n",
       "      <th>wheel_system_display</th>\n",
       "      <th>wheelbase</th>\n",
       "      <th>width</th>\n",
       "      <th>year</th>\n",
       "    </tr>\n",
       "  </thead>\n",
       "  <tbody>\n",
       "    <tr>\n",
       "      <th>0</th>\n",
       "      <td>ZACNJABB5KPJ92081</td>\n",
       "      <td>35.1 in</td>\n",
       "      <td>NaN</td>\n",
       "      <td>NaN</td>\n",
       "      <td>NaN</td>\n",
       "      <td>SUV / Crossover</td>\n",
       "      <td>NaN</td>\n",
       "      <td>Bayamon</td>\n",
       "      <td>NaN</td>\n",
       "      <td>NaN</td>\n",
       "      <td>...</td>\n",
       "      <td>A</td>\n",
       "      <td>9-Speed Automatic Overdrive</td>\n",
       "      <td>t83804</td>\n",
       "      <td>Latitude FWD</td>\n",
       "      <td>NaN</td>\n",
       "      <td>FWD</td>\n",
       "      <td>Front-Wheel Drive</td>\n",
       "      <td>101.2 in</td>\n",
       "      <td>79.6 in</td>\n",
       "      <td>2019</td>\n",
       "    </tr>\n",
       "    <tr>\n",
       "      <th>1</th>\n",
       "      <td>SALCJ2FX1LH858117</td>\n",
       "      <td>38.1 in</td>\n",
       "      <td>NaN</td>\n",
       "      <td>NaN</td>\n",
       "      <td>NaN</td>\n",
       "      <td>SUV / Crossover</td>\n",
       "      <td>NaN</td>\n",
       "      <td>San Juan</td>\n",
       "      <td>NaN</td>\n",
       "      <td>NaN</td>\n",
       "      <td>...</td>\n",
       "      <td>A</td>\n",
       "      <td>9-Speed Automatic Overdrive</td>\n",
       "      <td>t86759</td>\n",
       "      <td>S AWD</td>\n",
       "      <td>NaN</td>\n",
       "      <td>AWD</td>\n",
       "      <td>All-Wheel Drive</td>\n",
       "      <td>107.9 in</td>\n",
       "      <td>85.6 in</td>\n",
       "      <td>2020</td>\n",
       "    </tr>\n",
       "    <tr>\n",
       "      <th>2</th>\n",
       "      <td>JF1VA2M67G9829723</td>\n",
       "      <td>35.4 in</td>\n",
       "      <td>NaN</td>\n",
       "      <td>NaN</td>\n",
       "      <td>NaN</td>\n",
       "      <td>Sedan</td>\n",
       "      <td>NaN</td>\n",
       "      <td>Guaynabo</td>\n",
       "      <td>17.0</td>\n",
       "      <td>NaN</td>\n",
       "      <td>...</td>\n",
       "      <td>M</td>\n",
       "      <td>6-Speed Manual</td>\n",
       "      <td>t58994</td>\n",
       "      <td>Base</td>\n",
       "      <td>NaN</td>\n",
       "      <td>AWD</td>\n",
       "      <td>All-Wheel Drive</td>\n",
       "      <td>104.3 in</td>\n",
       "      <td>78.9 in</td>\n",
       "      <td>2016</td>\n",
       "    </tr>\n",
       "    <tr>\n",
       "      <th>3</th>\n",
       "      <td>SALRR2RV0L2433391</td>\n",
       "      <td>37.6 in</td>\n",
       "      <td>NaN</td>\n",
       "      <td>NaN</td>\n",
       "      <td>NaN</td>\n",
       "      <td>SUV / Crossover</td>\n",
       "      <td>NaN</td>\n",
       "      <td>San Juan</td>\n",
       "      <td>NaN</td>\n",
       "      <td>NaN</td>\n",
       "      <td>...</td>\n",
       "      <td>A</td>\n",
       "      <td>8-Speed Automatic Overdrive</td>\n",
       "      <td>t86074</td>\n",
       "      <td>V6 HSE AWD</td>\n",
       "      <td>NaN</td>\n",
       "      <td>AWD</td>\n",
       "      <td>All-Wheel Drive</td>\n",
       "      <td>115 in</td>\n",
       "      <td>87.4 in</td>\n",
       "      <td>2020</td>\n",
       "    </tr>\n",
       "    <tr>\n",
       "      <th>4</th>\n",
       "      <td>SALCJ2FXXLH862327</td>\n",
       "      <td>38.1 in</td>\n",
       "      <td>NaN</td>\n",
       "      <td>NaN</td>\n",
       "      <td>NaN</td>\n",
       "      <td>SUV / Crossover</td>\n",
       "      <td>NaN</td>\n",
       "      <td>San Juan</td>\n",
       "      <td>NaN</td>\n",
       "      <td>NaN</td>\n",
       "      <td>...</td>\n",
       "      <td>A</td>\n",
       "      <td>9-Speed Automatic Overdrive</td>\n",
       "      <td>t86759</td>\n",
       "      <td>S AWD</td>\n",
       "      <td>NaN</td>\n",
       "      <td>AWD</td>\n",
       "      <td>All-Wheel Drive</td>\n",
       "      <td>107.9 in</td>\n",
       "      <td>85.6 in</td>\n",
       "      <td>2020</td>\n",
       "    </tr>\n",
       "  </tbody>\n",
       "</table>\n",
       "<p>5 rows × 66 columns</p>\n",
       "</div>"
      ],
      "text/plain": [
       "                 vin back_legroom  bed bed_height bed_length        body_type  \\\n",
       "0  ZACNJABB5KPJ92081      35.1 in  NaN        NaN        NaN  SUV / Crossover   \n",
       "1  SALCJ2FX1LH858117      38.1 in  NaN        NaN        NaN  SUV / Crossover   \n",
       "2  JF1VA2M67G9829723      35.4 in  NaN        NaN        NaN            Sedan   \n",
       "3  SALRR2RV0L2433391      37.6 in  NaN        NaN        NaN  SUV / Crossover   \n",
       "4  SALCJ2FXXLH862327      38.1 in  NaN        NaN        NaN  SUV / Crossover   \n",
       "\n",
       "  cabin      city  city_fuel_economy  combine_fuel_economy  ...  transmission  \\\n",
       "0   NaN   Bayamon                NaN                   NaN  ...             A   \n",
       "1   NaN  San Juan                NaN                   NaN  ...             A   \n",
       "2   NaN  Guaynabo               17.0                   NaN  ...             M   \n",
       "3   NaN  San Juan                NaN                   NaN  ...             A   \n",
       "4   NaN  San Juan                NaN                   NaN  ...             A   \n",
       "\n",
       "          transmission_display  trimid     trim_name  vehicle_damage_category  \\\n",
       "0  9-Speed Automatic Overdrive  t83804  Latitude FWD                      NaN   \n",
       "1  9-Speed Automatic Overdrive  t86759         S AWD                      NaN   \n",
       "2               6-Speed Manual  t58994          Base                      NaN   \n",
       "3  8-Speed Automatic Overdrive  t86074    V6 HSE AWD                      NaN   \n",
       "4  9-Speed Automatic Overdrive  t86759         S AWD                      NaN   \n",
       "\n",
       "  wheel_system wheel_system_display wheelbase    width  year  \n",
       "0          FWD    Front-Wheel Drive  101.2 in  79.6 in  2019  \n",
       "1          AWD      All-Wheel Drive  107.9 in  85.6 in  2020  \n",
       "2          AWD      All-Wheel Drive  104.3 in  78.9 in  2016  \n",
       "3          AWD      All-Wheel Drive    115 in  87.4 in  2020  \n",
       "4          AWD      All-Wheel Drive  107.9 in  85.6 in  2020  \n",
       "\n",
       "[5 rows x 66 columns]"
      ]
     },
     "execution_count": 46,
     "metadata": {},
     "output_type": "execute_result"
    }
   ],
   "source": [
    "cars_df.head()"
   ]
  },
  {
   "cell_type": "markdown",
   "id": "3b40b903-d6b9-4171-a24c-30be1e28e728",
   "metadata": {},
   "source": [
    "**Removing Columns**"
   ]
  },
  {
   "cell_type": "code",
   "execution_count": 49,
   "id": "29669631-56bc-4ca9-b81b-984565a45bbb",
   "metadata": {},
   "outputs": [
    {
     "ename": "KeyError",
     "evalue": "\"['bed', 'bed_height', 'bed_length', 'cabin', 'combine_fuel_economy', 'is_certified', 'is_cpo', 'is_oemcpo', 'vehicle_damage_category', 'engine_cylinders', 'exterior_color', 'franchise_make', 'wheel_system', 'transmission_display', 'latitude', 'longitude', 'back_legroom', 'front_legroom', 'power', 'has_accidents', 'salvage', 'theft_title', 'fleet', 'engine_displacement', 'description', 'interior_color', 'franchise_dealer', 'main_picture_url', 'major_options', 'iscab', 'trimid', 'trim_name', 'city_fuel_economy', 'highway_fuel_economy', 'length', 'height', 'width', 'torque', 'wheelbase', 'fuel_tank_volume', 'savings_amount', 'sp_id', 'listing_id'] not found in axis\"",
     "output_type": "error",
     "traceback": [
      "\u001b[1;31m---------------------------------------------------------------------------\u001b[0m",
      "\u001b[1;31mKeyError\u001b[0m                                  Traceback (most recent call last)",
      "Cell \u001b[1;32mIn[49], line 14\u001b[0m\n\u001b[0;32m      1\u001b[0m columns_to_drop \u001b[38;5;241m=\u001b[39m [\n\u001b[0;32m      2\u001b[0m     \u001b[38;5;124m'\u001b[39m\u001b[38;5;124mbed\u001b[39m\u001b[38;5;124m'\u001b[39m, \u001b[38;5;124m'\u001b[39m\u001b[38;5;124mbed_height\u001b[39m\u001b[38;5;124m'\u001b[39m, \u001b[38;5;124m'\u001b[39m\u001b[38;5;124mbed_length\u001b[39m\u001b[38;5;124m'\u001b[39m, \u001b[38;5;124m'\u001b[39m\u001b[38;5;124mcabin\u001b[39m\u001b[38;5;124m'\u001b[39m, \u001b[38;5;124m'\u001b[39m\u001b[38;5;124mcombine_fuel_economy\u001b[39m\u001b[38;5;124m'\u001b[39m,\n\u001b[0;32m      3\u001b[0m     \u001b[38;5;124m'\u001b[39m\u001b[38;5;124mis_certified\u001b[39m\u001b[38;5;124m'\u001b[39m, \u001b[38;5;124m'\u001b[39m\u001b[38;5;124mis_cpo\u001b[39m\u001b[38;5;124m'\u001b[39m, \u001b[38;5;124m'\u001b[39m\u001b[38;5;124mis_oemcpo\u001b[39m\u001b[38;5;124m'\u001b[39m, \u001b[38;5;124m'\u001b[39m\u001b[38;5;124mvehicle_damage_category\u001b[39m\u001b[38;5;124m'\u001b[39m,\n\u001b[1;32m   (...)\u001b[0m\n\u001b[0;32m     11\u001b[0m     \u001b[38;5;124m'\u001b[39m\u001b[38;5;124msavings_amount\u001b[39m\u001b[38;5;124m'\u001b[39m, \u001b[38;5;124m'\u001b[39m\u001b[38;5;124msp_id\u001b[39m\u001b[38;5;124m'\u001b[39m, \u001b[38;5;124m'\u001b[39m\u001b[38;5;124mlisting_id\u001b[39m\u001b[38;5;124m'\u001b[39m\n\u001b[0;32m     12\u001b[0m ]\n\u001b[1;32m---> 14\u001b[0m \u001b[43mcars_df\u001b[49m\u001b[38;5;241;43m.\u001b[39;49m\u001b[43mdrop\u001b[49m\u001b[43m(\u001b[49m\u001b[43mcolumns\u001b[49m\u001b[38;5;241;43m=\u001b[39;49m\u001b[43mcolumns_to_drop\u001b[49m\u001b[43m,\u001b[49m\u001b[43m \u001b[49m\u001b[43minplace\u001b[49m\u001b[38;5;241;43m=\u001b[39;49m\u001b[38;5;28;43;01mTrue\u001b[39;49;00m\u001b[43m)\u001b[49m\n",
      "File \u001b[1;32m~\\AppData\\Local\\Packages\\PythonSoftwareFoundation.Python.3.11_qbz5n2kfra8p0\\LocalCache\\local-packages\\Python311\\site-packages\\pandas\\core\\frame.py:5258\u001b[0m, in \u001b[0;36mDataFrame.drop\u001b[1;34m(self, labels, axis, index, columns, level, inplace, errors)\u001b[0m\n\u001b[0;32m   5110\u001b[0m \u001b[38;5;28;01mdef\u001b[39;00m \u001b[38;5;21mdrop\u001b[39m(\n\u001b[0;32m   5111\u001b[0m     \u001b[38;5;28mself\u001b[39m,\n\u001b[0;32m   5112\u001b[0m     labels: IndexLabel \u001b[38;5;241m=\u001b[39m \u001b[38;5;28;01mNone\u001b[39;00m,\n\u001b[1;32m   (...)\u001b[0m\n\u001b[0;32m   5119\u001b[0m     errors: IgnoreRaise \u001b[38;5;241m=\u001b[39m \u001b[38;5;124m\"\u001b[39m\u001b[38;5;124mraise\u001b[39m\u001b[38;5;124m\"\u001b[39m,\n\u001b[0;32m   5120\u001b[0m ) \u001b[38;5;241m-\u001b[39m\u001b[38;5;241m>\u001b[39m DataFrame \u001b[38;5;241m|\u001b[39m \u001b[38;5;28;01mNone\u001b[39;00m:\n\u001b[0;32m   5121\u001b[0m \u001b[38;5;250m    \u001b[39m\u001b[38;5;124;03m\"\"\"\u001b[39;00m\n\u001b[0;32m   5122\u001b[0m \u001b[38;5;124;03m    Drop specified labels from rows or columns.\u001b[39;00m\n\u001b[0;32m   5123\u001b[0m \n\u001b[1;32m   (...)\u001b[0m\n\u001b[0;32m   5256\u001b[0m \u001b[38;5;124;03m            weight  1.0     0.8\u001b[39;00m\n\u001b[0;32m   5257\u001b[0m \u001b[38;5;124;03m    \"\"\"\u001b[39;00m\n\u001b[1;32m-> 5258\u001b[0m     \u001b[38;5;28;01mreturn\u001b[39;00m \u001b[38;5;28;43msuper\u001b[39;49m\u001b[43m(\u001b[49m\u001b[43m)\u001b[49m\u001b[38;5;241;43m.\u001b[39;49m\u001b[43mdrop\u001b[49m\u001b[43m(\u001b[49m\n\u001b[0;32m   5259\u001b[0m \u001b[43m        \u001b[49m\u001b[43mlabels\u001b[49m\u001b[38;5;241;43m=\u001b[39;49m\u001b[43mlabels\u001b[49m\u001b[43m,\u001b[49m\n\u001b[0;32m   5260\u001b[0m \u001b[43m        \u001b[49m\u001b[43maxis\u001b[49m\u001b[38;5;241;43m=\u001b[39;49m\u001b[43maxis\u001b[49m\u001b[43m,\u001b[49m\n\u001b[0;32m   5261\u001b[0m \u001b[43m        \u001b[49m\u001b[43mindex\u001b[49m\u001b[38;5;241;43m=\u001b[39;49m\u001b[43mindex\u001b[49m\u001b[43m,\u001b[49m\n\u001b[0;32m   5262\u001b[0m \u001b[43m        \u001b[49m\u001b[43mcolumns\u001b[49m\u001b[38;5;241;43m=\u001b[39;49m\u001b[43mcolumns\u001b[49m\u001b[43m,\u001b[49m\n\u001b[0;32m   5263\u001b[0m \u001b[43m        \u001b[49m\u001b[43mlevel\u001b[49m\u001b[38;5;241;43m=\u001b[39;49m\u001b[43mlevel\u001b[49m\u001b[43m,\u001b[49m\n\u001b[0;32m   5264\u001b[0m \u001b[43m        \u001b[49m\u001b[43minplace\u001b[49m\u001b[38;5;241;43m=\u001b[39;49m\u001b[43minplace\u001b[49m\u001b[43m,\u001b[49m\n\u001b[0;32m   5265\u001b[0m \u001b[43m        \u001b[49m\u001b[43merrors\u001b[49m\u001b[38;5;241;43m=\u001b[39;49m\u001b[43merrors\u001b[49m\u001b[43m,\u001b[49m\n\u001b[0;32m   5266\u001b[0m \u001b[43m    \u001b[49m\u001b[43m)\u001b[49m\n",
      "File \u001b[1;32m~\\AppData\\Local\\Packages\\PythonSoftwareFoundation.Python.3.11_qbz5n2kfra8p0\\LocalCache\\local-packages\\Python311\\site-packages\\pandas\\core\\generic.py:4549\u001b[0m, in \u001b[0;36mNDFrame.drop\u001b[1;34m(self, labels, axis, index, columns, level, inplace, errors)\u001b[0m\n\u001b[0;32m   4547\u001b[0m \u001b[38;5;28;01mfor\u001b[39;00m axis, labels \u001b[38;5;129;01min\u001b[39;00m axes\u001b[38;5;241m.\u001b[39mitems():\n\u001b[0;32m   4548\u001b[0m     \u001b[38;5;28;01mif\u001b[39;00m labels \u001b[38;5;129;01mis\u001b[39;00m \u001b[38;5;129;01mnot\u001b[39;00m \u001b[38;5;28;01mNone\u001b[39;00m:\n\u001b[1;32m-> 4549\u001b[0m         obj \u001b[38;5;241m=\u001b[39m \u001b[43mobj\u001b[49m\u001b[38;5;241;43m.\u001b[39;49m\u001b[43m_drop_axis\u001b[49m\u001b[43m(\u001b[49m\u001b[43mlabels\u001b[49m\u001b[43m,\u001b[49m\u001b[43m \u001b[49m\u001b[43maxis\u001b[49m\u001b[43m,\u001b[49m\u001b[43m \u001b[49m\u001b[43mlevel\u001b[49m\u001b[38;5;241;43m=\u001b[39;49m\u001b[43mlevel\u001b[49m\u001b[43m,\u001b[49m\u001b[43m \u001b[49m\u001b[43merrors\u001b[49m\u001b[38;5;241;43m=\u001b[39;49m\u001b[43merrors\u001b[49m\u001b[43m)\u001b[49m\n\u001b[0;32m   4551\u001b[0m \u001b[38;5;28;01mif\u001b[39;00m inplace:\n\u001b[0;32m   4552\u001b[0m     \u001b[38;5;28mself\u001b[39m\u001b[38;5;241m.\u001b[39m_update_inplace(obj)\n",
      "File \u001b[1;32m~\\AppData\\Local\\Packages\\PythonSoftwareFoundation.Python.3.11_qbz5n2kfra8p0\\LocalCache\\local-packages\\Python311\\site-packages\\pandas\\core\\generic.py:4591\u001b[0m, in \u001b[0;36mNDFrame._drop_axis\u001b[1;34m(self, labels, axis, level, errors, only_slice)\u001b[0m\n\u001b[0;32m   4589\u001b[0m         new_axis \u001b[38;5;241m=\u001b[39m axis\u001b[38;5;241m.\u001b[39mdrop(labels, level\u001b[38;5;241m=\u001b[39mlevel, errors\u001b[38;5;241m=\u001b[39merrors)\n\u001b[0;32m   4590\u001b[0m     \u001b[38;5;28;01melse\u001b[39;00m:\n\u001b[1;32m-> 4591\u001b[0m         new_axis \u001b[38;5;241m=\u001b[39m \u001b[43maxis\u001b[49m\u001b[38;5;241;43m.\u001b[39;49m\u001b[43mdrop\u001b[49m\u001b[43m(\u001b[49m\u001b[43mlabels\u001b[49m\u001b[43m,\u001b[49m\u001b[43m \u001b[49m\u001b[43merrors\u001b[49m\u001b[38;5;241;43m=\u001b[39;49m\u001b[43merrors\u001b[49m\u001b[43m)\u001b[49m\n\u001b[0;32m   4592\u001b[0m     indexer \u001b[38;5;241m=\u001b[39m axis\u001b[38;5;241m.\u001b[39mget_indexer(new_axis)\n\u001b[0;32m   4594\u001b[0m \u001b[38;5;66;03m# Case for non-unique axis\u001b[39;00m\n\u001b[0;32m   4595\u001b[0m \u001b[38;5;28;01melse\u001b[39;00m:\n",
      "File \u001b[1;32m~\\AppData\\Local\\Packages\\PythonSoftwareFoundation.Python.3.11_qbz5n2kfra8p0\\LocalCache\\local-packages\\Python311\\site-packages\\pandas\\core\\indexes\\base.py:6699\u001b[0m, in \u001b[0;36mIndex.drop\u001b[1;34m(self, labels, errors)\u001b[0m\n\u001b[0;32m   6697\u001b[0m \u001b[38;5;28;01mif\u001b[39;00m mask\u001b[38;5;241m.\u001b[39many():\n\u001b[0;32m   6698\u001b[0m     \u001b[38;5;28;01mif\u001b[39;00m errors \u001b[38;5;241m!=\u001b[39m \u001b[38;5;124m\"\u001b[39m\u001b[38;5;124mignore\u001b[39m\u001b[38;5;124m\"\u001b[39m:\n\u001b[1;32m-> 6699\u001b[0m         \u001b[38;5;28;01mraise\u001b[39;00m \u001b[38;5;167;01mKeyError\u001b[39;00m(\u001b[38;5;124mf\u001b[39m\u001b[38;5;124m\"\u001b[39m\u001b[38;5;132;01m{\u001b[39;00m\u001b[38;5;28mlist\u001b[39m(labels[mask])\u001b[38;5;132;01m}\u001b[39;00m\u001b[38;5;124m not found in axis\u001b[39m\u001b[38;5;124m\"\u001b[39m)\n\u001b[0;32m   6700\u001b[0m     indexer \u001b[38;5;241m=\u001b[39m indexer[\u001b[38;5;241m~\u001b[39mmask]\n\u001b[0;32m   6701\u001b[0m \u001b[38;5;28;01mreturn\u001b[39;00m \u001b[38;5;28mself\u001b[39m\u001b[38;5;241m.\u001b[39mdelete(indexer)\n",
      "\u001b[1;31mKeyError\u001b[0m: \"['bed', 'bed_height', 'bed_length', 'cabin', 'combine_fuel_economy', 'is_certified', 'is_cpo', 'is_oemcpo', 'vehicle_damage_category', 'engine_cylinders', 'exterior_color', 'franchise_make', 'wheel_system', 'transmission_display', 'latitude', 'longitude', 'back_legroom', 'front_legroom', 'power', 'has_accidents', 'salvage', 'theft_title', 'fleet', 'engine_displacement', 'description', 'interior_color', 'franchise_dealer', 'main_picture_url', 'major_options', 'iscab', 'trimid', 'trim_name', 'city_fuel_economy', 'highway_fuel_economy', 'length', 'height', 'width', 'torque', 'wheelbase', 'fuel_tank_volume', 'savings_amount', 'sp_id', 'listing_id'] not found in axis\""
     ]
    }
   ],
   "source": [
    "columns_to_drop = [\n",
    "    'bed', 'bed_height', 'bed_length', 'cabin', 'combine_fuel_economy',\n",
    "    'is_certified', 'is_cpo', 'is_oemcpo', 'vehicle_damage_category',\n",
    "    'engine_cylinders', 'exterior_color', 'franchise_make', 'wheel_system',\n",
    "    'transmission_display', 'latitude', 'longitude', 'back_legroom',\n",
    "    'front_legroom', 'power', 'has_accidents', 'salvage', 'theft_title',\n",
    "    'fleet', 'engine_displacement', 'description', 'interior_color',\n",
    "    'franchise_dealer', 'main_picture_url', 'major_options', 'iscab',\n",
    "    'trimid', 'trim_name', 'city_fuel_economy', 'highway_fuel_economy',\n",
    "    'length', 'height', 'width', 'torque', 'wheelbase', 'fuel_tank_volume',\n",
    "    'savings_amount', 'sp_id', 'listing_id'\n",
    "]\n",
    "\n",
    "cars_df.drop(columns=columns_to_drop, inplace=True)"
   ]
  },
  {
   "cell_type": "markdown",
   "id": "0a376507-dcbb-4726-b90f-153275af07e7",
   "metadata": {},
   "source": [
    "**Note:**\n",
    "The following columns have been removed based on the results of the Exploratory Data Analysis (EDA). For a detailed explanation of the reasons behind these removals, please refer to the `used_cars_eda_3m.ipynbb notebook`. "
   ]
  },
  {
   "cell_type": "markdown",
   "id": "97a918dc-1f71-4273-b46b-69a5eea853ba",
   "metadata": {},
   "source": [
    "## Handling Outliers"
   ]
  },
  {
   "cell_type": "markdown",
   "id": "3749610e-cd04-4f88-9ebd-594224f84ef2",
   "metadata": {},
   "source": [
    "____________________\n",
    "**price**"
   ]
  },
  {
   "cell_type": "code",
   "execution_count": 48,
   "id": "91c44f34-a3c1-422d-8d82-3fc04b95ef2c",
   "metadata": {},
   "outputs": [
    {
     "data": {
      "text/plain": [
       "<Axes: >"
      ]
     },
     "execution_count": 48,
     "metadata": {},
     "output_type": "execute_result"
    }
   ],
   "source": [
    "cars_df.boxplot(column='price')"
   ]
  },
  {
   "cell_type": "markdown",
   "id": "45a4322d-fca2-4b89-87fe-5a71c3304c28",
   "metadata": {},
   "source": [
    "In the boxplot, it is evident that there are numerous outliers, highlighting the need for their identification and subsequent removal to maintain data quality and integrity."
   ]
  },
  {
   "cell_type": "code",
   "execution_count": 50,
   "id": "a77a21ec-87f9-4b33-8bba-03d5b37ab8b1",
   "metadata": {},
   "outputs": [],
   "source": [
    "mean_price = cars_df['price'].mean()\n",
    "std_price = cars_df['price'].std()\n",
    "threshold = 2 * std_price\n",
    "outliers = cars_df[(cars_df['price'] < (mean_price - threshold)) | (cars_df['price'] > (mean_price + threshold))]\n",
    "new_cars_df = cars_df[~cars_df['price'].isin(outliers['price'])]"
   ]
  },
  {
   "cell_type": "code",
   "execution_count": 51,
   "id": "a6d5982c-9637-4b60-a1a1-913c8f930236",
   "metadata": {},
   "outputs": [
    {
     "data": {
      "text/plain": [
       "45384    22995\n",
       "90462    23998\n",
       "65161    19900\n",
       "94816    36127\n",
       "20300    21545\n",
       "Name: price, dtype: int32"
      ]
     },
     "execution_count": 51,
     "metadata": {},
     "output_type": "execute_result"
    }
   ],
   "source": [
    "new_cars_df['price'] = new_cars_df['price'].astype(int)\n",
    "new_cars_df['price'].sample(5)"
   ]
  },
  {
   "cell_type": "code",
   "execution_count": 52,
   "id": "07398207-40ed-4ec9-94c7-d587c79e0c7d",
   "metadata": {},
   "outputs": [
    {
     "data": {
      "text/plain": [
       "(2859, 23)"
      ]
     },
     "execution_count": 52,
     "metadata": {},
     "output_type": "execute_result"
    }
   ],
   "source": [
    "outliers.shape"
   ]
  },
  {
   "cell_type": "markdown",
   "id": "64a66b7c-eaca-499d-a888-11e7d1dd23b0",
   "metadata": {},
   "source": [
    "After identifying and eliminating 2,859 outliers in the `price` variable using a threshold of 2 times the standard deviation, the format of the `price` column was changed to an integer."
   ]
  },
  {
   "cell_type": "markdown",
   "id": "5539e5d5-1a72-4279-a429-36e00536805b",
   "metadata": {},
   "source": [
    "____________________\n",
    "**mileage**"
   ]
  },
  {
   "cell_type": "code",
   "execution_count": 53,
   "id": "bcd9ad1b-f99c-460a-b519-a4debf83664c",
   "metadata": {},
   "outputs": [],
   "source": [
    "mean_price = new_cars_df['mileage'].mean()\n",
    "std_price = new_cars_df['mileage'].std()\n",
    "threshold = 2 * std_price\n",
    "outliers = new_cars_df[(new_cars_df['mileage'] < (mean_price - threshold)) | (new_cars_df['mileage'] > (mean_price + threshold))]\n",
    "new_cars_df = new_cars_df[~new_cars_df['mileage'].isin(outliers['mileage'])]\n",
    "new_cars_df['mileage'].fillna(new_cars_df['mileage'].mean(), inplace=True)"
   ]
  },
  {
   "cell_type": "code",
   "execution_count": 54,
   "id": "663db969-6ad9-4e61-a8ca-04f97b926d6e",
   "metadata": {},
   "outputs": [
    {
     "data": {
      "text/plain": [
       "68860     29199\n",
       "72727     25010\n",
       "43031    115687\n",
       "12431         3\n",
       "14139         0\n",
       "Name: mileage, dtype: int32"
      ]
     },
     "execution_count": 54,
     "metadata": {},
     "output_type": "execute_result"
    }
   ],
   "source": [
    "new_cars_df['mileage'] = new_cars_df['mileage'].astype(int)\n",
    "new_cars_df['mileage'].sample(5)"
   ]
  },
  {
   "cell_type": "code",
   "execution_count": 55,
   "id": "0f20d23f-af4f-4488-ac7c-60b766557d06",
   "metadata": {},
   "outputs": [
    {
     "data": {
      "text/plain": [
       "(5892, 23)"
      ]
     },
     "execution_count": 55,
     "metadata": {},
     "output_type": "execute_result"
    }
   ],
   "source": [
    "outliers.shape"
   ]
  },
  {
   "cell_type": "markdown",
   "id": "98a77db7-6f29-4500-ad02-eeae3d9bc4b1",
   "metadata": {},
   "source": [
    "Similarly, in the `mileage` column, 5892 outliers were identified and removed using the same standard deviation method. Additionally, to handle missing values, NaN values in the `mileage` column were filled with the column's mean, and the `mileage` format was changed to an integer."
   ]
  },
  {
   "cell_type": "markdown",
   "id": "364c8b6f-b15d-42a4-ba26-cf41fdfbd893",
   "metadata": {},
   "source": [
    "## Missing Values: Removing Nulls"
   ]
  },
  {
   "cell_type": "markdown",
   "id": "90b60e48-9912-4d92-b5da-f2275afbd455",
   "metadata": {},
   "source": [
    "____________________\n",
    "**body_type**"
   ]
  },
  {
   "cell_type": "code",
   "execution_count": 56,
   "id": "158b3a5b-0d75-4b78-988b-3887e80f5ade",
   "metadata": {},
   "outputs": [
    {
     "data": {
      "text/plain": [
       "body_type\n",
       "SUV / Crossover    48694\n",
       "Sedan              24926\n",
       "Pickup Truck        7906\n",
       "Hatchback           2365\n",
       "Van                 1830\n",
       "Coupe               1739\n",
       "Minivan             1525\n",
       "Wagon               1237\n",
       "Convertible          700\n",
       "NaN                  329\n",
       "Name: count, dtype: int64"
      ]
     },
     "execution_count": 56,
     "metadata": {},
     "output_type": "execute_result"
    }
   ],
   "source": [
    "new_cars_df['body_type'].value_counts()"
   ]
  },
  {
   "cell_type": "code",
   "execution_count": 57,
   "id": "618dd1f9-5566-441a-94b1-cd9567d90595",
   "metadata": {},
   "outputs": [
    {
     "data": {
      "text/plain": [
       "array(['SUV / Crossover', 'Sedan', 'Coupe', 'Hatchback', 'Pickup Truck',\n",
       "       'Wagon', 'Minivan', 'Convertible', 'Van'], dtype=object)"
      ]
     },
     "execution_count": 57,
     "metadata": {},
     "output_type": "execute_result"
    }
   ],
   "source": [
    "new_cars_df = new_cars_df[new_cars_df['body_type'] != 'NaN']\n",
    "new_cars_df['body_type'].unique()"
   ]
  },
  {
   "cell_type": "markdown",
   "id": "c43bfcfc-adbf-41ed-a357-8f6215173b4a",
   "metadata": {},
   "source": [
    "Given the small number of missing values in the `body_type`column, it was decided to simply remove them."
   ]
  },
  {
   "cell_type": "markdown",
   "id": "3271ffb7-00a4-4cf2-b1ae-59fedf3f23b6",
   "metadata": {},
   "source": [
    "____________________\n",
    "**fuel_type**"
   ]
  },
  {
   "cell_type": "code",
   "execution_count": 58,
   "id": "3e768a73-b904-4b68-8f11-52b0578ba976",
   "metadata": {},
   "outputs": [
    {
     "data": {
      "text/plain": [
       "array(['Gasoline', 'Diesel', 'Biodiesel', 'Flex Fuel Vehicle', 'Electric',\n",
       "       'Hybrid', 'Compressed Natural Gas'], dtype=object)"
      ]
     },
     "execution_count": 58,
     "metadata": {},
     "output_type": "execute_result"
    }
   ],
   "source": [
    "new_cars_df = new_cars_df[new_cars_df['fuel_type'] != 'NaN']\n",
    "new_cars_df['fuel_type'].unique()"
   ]
  },
  {
   "cell_type": "markdown",
   "id": "62d659f0-cff3-4d35-b895-986f16d574e6",
   "metadata": {},
   "source": [
    "The decision to remove the null values in the  `fuel_type` column was made because this information was essential for populating the `engine_type` column. Without knowledge of the fuel type, it wouldn't provide significant relevance."
   ]
  },
  {
   "cell_type": "markdown",
   "id": "69a6dfe4-ad76-43e4-b377-1ee4f5cf3524",
   "metadata": {},
   "source": [
    "## Data Transformations"
   ]
  },
  {
   "cell_type": "markdown",
   "id": "14f83ee6-0c2f-4ab5-adb9-a282c68eb712",
   "metadata": {},
   "source": [
    "____________________\n",
    "**engine_type**"
   ]
  },
  {
   "cell_type": "code",
   "execution_count": 59,
   "id": "7c4ca4d0-1a43-4cf8-b716-66c8ab1c292d",
   "metadata": {},
   "outputs": [],
   "source": [
    "new_cars_df['engine_type'] = new_cars_df['engine_type'].str.split(' ').str[0]"
   ]
  },
  {
   "cell_type": "code",
   "execution_count": 60,
   "id": "e009f17e-a990-4965-89a8-ab195192c2de",
   "metadata": {},
   "outputs": [
    {
     "data": {
      "text/plain": [
       "engine_type  fuel_type\n",
       "NaN          NaN          2459\n",
       "             Electric      457\n",
       "             Diesel         75\n",
       "             Gasoline        7\n",
       "Name: count, dtype: int64"
      ]
     },
     "execution_count": 60,
     "metadata": {},
     "output_type": "execute_result"
    }
   ],
   "source": [
    "nan_engine_type = cars_df[cars_df['engine_type'] == 'NaN']\n",
    "nan_engine_type[['engine_type','fuel_type']].value_counts()"
   ]
  },
  {
   "cell_type": "code",
   "execution_count": 61,
   "id": "9c608c76-9049-4760-a0a7-b903e94468b1",
   "metadata": {},
   "outputs": [
    {
     "data": {
      "text/plain": [
       "array(['I4', 'H4', 'V6', 'I6', 'V8', 'Electric', 'I3', 'I5', 'R2',\n",
       "       'Diesel', 'W12', 'H6', 'I2', 'V10', 'Gasoline', 'V12'],\n",
       "      dtype=object)"
      ]
     },
     "execution_count": 61,
     "metadata": {},
     "output_type": "execute_result"
    }
   ],
   "source": [
    "new_cars_df.loc[(new_cars_df['engine_type']== 'NaN') & (new_cars_df['fuel_type'] == \"Electric\"), 'engine_type'] = \"Electric\"\n",
    "new_cars_df.loc[(new_cars_df['engine_type']== 'NaN') & (new_cars_df['fuel_type'] == \"Diesel\"), 'engine_type'] = \"Diesel\"\n",
    "new_cars_df.loc[(new_cars_df['engine_type']== 'NaN') & (new_cars_df['fuel_type'] == \"Gasoline\"), 'engine_type'] = \"Gasoline\"\n",
    "new_cars_df['engine_type'].unique()"
   ]
  },
  {
   "cell_type": "markdown",
   "id": "9c384811-dfa1-4924-b745-7f73f6e2aa86",
   "metadata": {},
   "source": [
    "Given the strong relationship between 'engine_type' and 'fuel_type' (e.g., 'V8 Diesel'), it was decided to retain only the 'engine_type' information and remove the 'fuel_type.' Where 'engine_type' was missing (NaN), it was assigned the value from 'fuel_type,' considering that many of these missing values corresponded to electric, diesel, or gasoline cars."
   ]
  },
  {
   "cell_type": "markdown",
   "id": "662bc74a-6ba3-4b2c-a9c9-ad9a6f2bdd28",
   "metadata": {},
   "source": [
    "_______________\n",
    "**transmission**"
   ]
  },
  {
   "cell_type": "code",
   "execution_count": 62,
   "id": "6f8020eb-6e66-48a8-a9ef-d32a89d5f3f7",
   "metadata": {},
   "outputs": [
    {
     "data": {
      "text/plain": [
       "transmission\n",
       "A              73328\n",
       "CVT            13116\n",
       "M               1392\n",
       "NaN              824\n",
       "Dual Clutch      318\n",
       "Name: count, dtype: int64"
      ]
     },
     "execution_count": 62,
     "metadata": {},
     "output_type": "execute_result"
    }
   ],
   "source": [
    "new_cars_df['transmission'].value_counts()"
   ]
  },
  {
   "cell_type": "code",
   "execution_count": 63,
   "id": "fe392fe8-b9ee-4705-b75f-a5d97216c873",
   "metadata": {},
   "outputs": [
    {
     "data": {
      "text/plain": [
       "array(['Automatic', 'Manual', 'Continuously Variable Transmission',\n",
       "       'Dual Clutch'], dtype=object)"
      ]
     },
     "execution_count": 63,
     "metadata": {},
     "output_type": "execute_result"
    }
   ],
   "source": [
    "new_cars_df['transmission'].replace('NaN', np.nan, inplace=True)\n",
    "new_cars_df['transmission'].fillna('A', inplace=True)\n",
    "new_cars_df['transmission'] = new_cars_df['transmission'].replace({'A': 'Automatic', 'CVT': 'Continuously Variable Transmission', 'M': 'Manual'})\n",
    "new_cars_df['transmission'].unique()"
   ]
  },
  {
   "cell_type": "markdown",
   "id": "4a485338-d9ce-4e74-a0aa-377dd6f4dd8b",
   "metadata": {},
   "source": [
    "In general, the transformations in the  `transmission` column involved addressing missing values by replacing them with the most common category, 'Automatic' (represented as 'A'). Additionally, category labels were updated to provide clearer and more informative descriptions."
   ]
  },
  {
   "cell_type": "markdown",
   "id": "6ac89c38-b256-4ee0-a9fd-74b819341667",
   "metadata": {},
   "source": [
    "_______________\n",
    "**listing_color**"
   ]
  },
  {
   "cell_type": "code",
   "execution_count": 64,
   "id": "7340a81f-0fc3-45f4-a805-18715f7c86d3",
   "metadata": {},
   "outputs": [
    {
     "data": {
      "text/plain": [
       "array(['Yellow', 'Black', 'Unknown', 'Gray', 'Silver', 'White', 'Red',\n",
       "       'Blue', 'Orange', 'Green', 'Brown', 'Teal', 'Purple', 'Gold',\n",
       "       'Pink'], dtype=object)"
      ]
     },
     "execution_count": 64,
     "metadata": {},
     "output_type": "execute_result"
    }
   ],
   "source": [
    "new_cars_df['listing_color'] = new_cars_df['listing_color'].str.capitalize()\n",
    "new_cars_df['listing_color'].unique()"
   ]
  },
  {
   "cell_type": "markdown",
   "id": "dd80eeea-1ab7-4371-a830-17fe9f844dbc",
   "metadata": {},
   "source": [
    "The format of the  `listing_color` column was modified to capitalize the first letter of each word, providing a more standardized and visually appealing format."
   ]
  },
  {
   "cell_type": "markdown",
   "id": "4a4f88ac-77bd-4686-8521-0d9f97b2ae2f",
   "metadata": {},
   "source": [
    "_______________\n",
    "**horsepower**"
   ]
  },
  {
   "cell_type": "code",
   "execution_count": 65,
   "id": "70355f31-f9d3-4195-a264-734d8aa0db76",
   "metadata": {},
   "outputs": [
    {
     "data": {
      "text/plain": [
       "59040    310\n",
       "66531    138\n",
       "43225    270\n",
       "86808    190\n",
       "39930    175\n",
       "Name: horsepower, dtype: int32"
      ]
     },
     "execution_count": 65,
     "metadata": {},
     "output_type": "execute_result"
    }
   ],
   "source": [
    "new_cars_df['horsepower'] = new_cars_df['horsepower'].apply(lambda x: random.uniform(180, 200) if pd.isna(x) else x)\n",
    "new_cars_df['horsepower'] = new_cars_df['horsepower'].astype(int)\n",
    "new_cars_df['horsepower'].sample(5)"
   ]
  },
  {
   "cell_type": "markdown",
   "id": "419bba19-d7aa-4e31-b801-4a551e6d94f6",
   "metadata": {},
   "source": [
    "To address missing values in the `horsepower`column, a decision was made to randomly assign values between 180 and 200. This range was chosen to reflect the average horsepower of a new car, which typically falls within this range. "
   ]
  },
  {
   "cell_type": "markdown",
   "id": "bf035a95-2754-4769-b4b8-57e597effcc3",
   "metadata": {},
   "source": [
    "_____________________\n",
    "**maximum_seating**"
   ]
  },
  {
   "cell_type": "code",
   "execution_count": 66,
   "id": "245b4e59-ffa0-44c2-8e64-7bb17f96ed62",
   "metadata": {},
   "outputs": [
    {
     "data": {
      "text/plain": [
       "body_type\n",
       "Convertible        4 seats\n",
       "Coupe              4 seats\n",
       "Hatchback          5 seats\n",
       "Minivan            8 seats\n",
       "Pickup Truck       6 seats\n",
       "SUV / Crossover    5 seats\n",
       "Sedan              5 seats\n",
       "Van                2 seats\n",
       "Wagon              5 seats\n",
       "Name: maximum_seating, dtype: object"
      ]
     },
     "execution_count": 66,
     "metadata": {},
     "output_type": "execute_result"
    }
   ],
   "source": [
    "result = new_cars_df.groupby('body_type')['maximum_seating'].agg(lambda x: x.mode().iloc[0])\n",
    "result"
   ]
  },
  {
   "cell_type": "code",
   "execution_count": 67,
   "id": "500cac86-186d-4367-865b-1602677accdb",
   "metadata": {},
   "outputs": [
    {
     "data": {
      "text/plain": [
       "array(['SUV / Crossover', 'Sedan', 'Pickup Truck', 'Hatchback', 'Wagon',\n",
       "       'Coupe', 'Van', 'Minivan', 'Convertible'], dtype=object)"
      ]
     },
     "execution_count": 67,
     "metadata": {},
     "output_type": "execute_result"
    }
   ],
   "source": [
    "filtered_df = new_cars_df[(new_cars_df['maximum_seating'] == 'NaN') | (new_cars_df['maximum_seating'] == '--')]\n",
    "body_types_with_nan = filtered_df['body_type'].unique()\n",
    "body_types_with_nan"
   ]
  },
  {
   "cell_type": "code",
   "execution_count": 68,
   "id": "b4b002a0-f4b5-4880-9a07-df6d935a8b11",
   "metadata": {},
   "outputs": [],
   "source": [
    "new_cars_df['maximum_seating'].replace([\"--\", 'NaN'], np.nan, inplace=True)"
   ]
  },
  {
   "cell_type": "code",
   "execution_count": 71,
   "id": "398bfb53-cb8e-4300-a5ee-9a5390efd817",
   "metadata": {},
   "outputs": [],
   "source": [
    "default_seating_values = {\n",
    "    'Convertible': '4 seats',\n",
    "    'Coupe': '4 seats',\n",
    "    'Hatchback': '5 seats',\n",
    "    'Minivan': '8 seats',\n",
    "    'Pickup Truck': '6 seats',\n",
    "    'SUV / Crossover': '5 seats',\n",
    "    'Sedan': '5 seats',\n",
    "    'Van': '2 seats',\n",
    "    'Wagon': '5 seats'\n",
    "}\n",
    "new_cars_df['maximum_seating'] = new_cars_df.apply(lambda row: default_seating_values.get(row['body_type'], row['maximum_seating']) if pd.isna(row['maximum_seating']) else row['maximum_seating'], axis=1)\n",
    "new_cars_df['maximum_seating'] = new_cars_df['maximum_seating'].str.replace(\" seats\", \"\").astype(int)"
   ]
  },
  {
   "cell_type": "code",
   "execution_count": 72,
   "id": "0d71dd71-891e-4dd8-9d98-5ee1b07d92bf",
   "metadata": {},
   "outputs": [
    {
     "data": {
      "text/plain": [
       "array([ 5,  7,  4,  8,  6,  2,  9,  3, 15, 12, 10])"
      ]
     },
     "execution_count": 72,
     "metadata": {},
     "output_type": "execute_result"
    }
   ],
   "source": [
    "new_cars_df['maximum_seating'].unique()"
   ]
  },
  {
   "cell_type": "markdown",
   "id": "0064823a-c647-41a8-8415-87efb20b2f29",
   "metadata": {},
   "source": [
    "To address missing values in the `maximum_seating` column, the most common value (mode) for 'maximum_seating' was assigned based on the `body_type` group. Additionally, ' seats' was removed from the string, and the values were converted to integers to ensure consistent data format."
   ]
  },
  {
   "cell_type": "markdown",
   "id": "7abcf2d1-c2f4-47af-98b9-2ba720370b9e",
   "metadata": {},
   "source": [
    "___________________\n",
    "**seller_rating**"
   ]
  },
  {
   "cell_type": "code",
   "execution_count": 73,
   "id": "4cbae164-f00a-48da-95b0-0e2960abe141",
   "metadata": {},
   "outputs": [
    {
     "data": {
      "text/plain": [
       "array([3, 0, 4, 5, 1, 2])"
      ]
     },
     "execution_count": 73,
     "metadata": {},
     "output_type": "execute_result"
    }
   ],
   "source": [
    "new_cars_df['seller_rating'] = new_cars_df['seller_rating'].apply(np.ceil)\n",
    "new_cars_df['seller_rating'].fillna(0, inplace=True)\n",
    "new_cars_df['seller_rating'] = new_cars_df['seller_rating'].astype(int)\n",
    "new_cars_df['seller_rating'].unique()"
   ]
  },
  {
   "cell_type": "markdown",
   "id": "0fd548ba-f942-45e8-864c-a8fc389e54c0",
   "metadata": {},
   "source": [
    "To simplify the `seller_rating` column, only the integer part of the rating was retained. Any missing values were assigned a reputation score of 0. The entire `seller_rating` column was subsequently converted to integers."
   ]
  },
  {
   "cell_type": "markdown",
   "id": "387f5584-dcc8-4434-aaeb-46694b031019",
   "metadata": {},
   "source": [
    "____________________\n",
    "**owner_count**"
   ]
  },
  {
   "cell_type": "code",
   "execution_count": 74,
   "id": "23e2cfba-d78d-4b9d-9c6a-b7b72c128320",
   "metadata": {},
   "outputs": [
    {
     "data": {
      "text/plain": [
       "array([-1,  3,  2,  1,  5,  4,  6,  7,  9,  8, 10, 12, 15])"
      ]
     },
     "execution_count": 74,
     "metadata": {},
     "output_type": "execute_result"
    }
   ],
   "source": [
    "new_cars_df['owner_count'].fillna(-1, inplace=True)\n",
    "new_cars_df['owner_count']= new_cars_df['owner_count'].astype(int)\n",
    "new_cars_df['owner_count'].unique()"
   ]
  },
  {
   "cell_type": "markdown",
   "id": "32159d16-3325-421e-b5c2-5023369f90f7",
   "metadata": {},
   "source": [
    "To address missing values in the `owner_count` column, an identifier of -1 was used to indicate cases where the number of owners is unknown. This approach was chosen to retain the data while acknowledging the absence of owner count information."
   ]
  },
  {
   "cell_type": "markdown",
   "id": "a7936446-ecd3-496b-8670-1b75593034ef",
   "metadata": {},
   "source": [
    "__________________\n",
    "**frame_damaged**"
   ]
  },
  {
   "cell_type": "code",
   "execution_count": 75,
   "id": "3278c3e5-0366-4ed8-b154-35a0cfad489f",
   "metadata": {},
   "outputs": [
    {
     "data": {
      "text/plain": [
       "array([0, 1], dtype=int64)"
      ]
     },
     "execution_count": 75,
     "metadata": {},
     "output_type": "execute_result"
    }
   ],
   "source": [
    "new_cars_df['frame_damaged'].replace(['NaN'], np.nan, inplace=True)\n",
    "new_cars_df['frame_damaged'].fillna('false', inplace=True)\n",
    "new_cars_df['frame_damaged'].replace('false',0, inplace=True)\n",
    "new_cars_df['frame_damaged'].replace('true',1, inplace=True)\n",
    "new_cars_df['frame_damaged'].unique()"
   ]
  },
  {
   "cell_type": "markdown",
   "id": "5634b01e-968b-421c-9e51-5b21e6773f7d",
   "metadata": {},
   "source": [
    "To handle missing values in the `frame_damaged` column, any null values were replaced with 0 indicating that no frame damage was reported. After this transformation, the `frame_damaged` column now only contains either 1 or 0 values."
   ]
  },
  {
   "cell_type": "markdown",
   "id": "80f7327e-ed3c-4ff6-85fa-45606cac5701",
   "metadata": {},
   "source": [
    "__________________\n",
    "**is_new**"
   ]
  },
  {
   "cell_type": "code",
   "execution_count": 76,
   "id": "0d5ae37d-613f-4759-a571-029742aaec3c",
   "metadata": {},
   "outputs": [
    {
     "data": {
      "text/plain": [
       "array([1, 0], dtype=int64)"
      ]
     },
     "execution_count": 76,
     "metadata": {},
     "output_type": "execute_result"
    }
   ],
   "source": [
    "new_cars_df['is_new'].replace(False,0, inplace=True)\n",
    "new_cars_df['is_new'].replace(True,1, inplace=True)\n",
    "new_cars_df['is_new'].unique()"
   ]
  },
  {
   "cell_type": "markdown",
   "id": "a2e3dea6-8722-4008-8933-a3c77851d80e",
   "metadata": {},
   "source": [
    "For convenience, the `is_new` column was transformed by replacing True with 1 and False with 0.\n"
   ]
  },
  {
   "cell_type": "markdown",
   "id": "490687c0-5475-45ee-87b7-e997e01de1bf",
   "metadata": {},
   "source": [
    "_______________\n",
    "**dealer_zip**"
   ]
  },
  {
   "cell_type": "code",
   "execution_count": 31,
   "id": "37ce0546-5806-4371-95ea-86b485ec944c",
   "metadata": {},
   "outputs": [],
   "source": [
    "def get_state(zip_code):\n",
    "    engine = SearchEngine()\n",
    "    try:\n",
    "        zipcode = engine.by_zipcode(zip_code)\n",
    "        return zipcode.state_long\n",
    "    except:\n",
    "        return np.nan\n",
    "\n",
    "# Apply the get_state function to 'dealer_zip' column\n",
    "new_cars_df['dealer_state'] = new_cars_df['dealer_zip'].apply(lambda x: get_state(x))"
   ]
  },
  {
   "cell_type": "code",
   "execution_count": 32,
   "id": "774a7218-6bd5-402e-adee-17193bb0cfb0",
   "metadata": {},
   "outputs": [
    {
     "data": {
      "text/plain": [
       "array(['Puerto Rico', 'New York', 'Connecticut', 'New Jersey', 'Michigan',\n",
       "       'Massachusetts', 'Illinois', 'Ohio', 'Pennsylvania', 'Kentucky',\n",
       "       'Rhode Island', 'Indiana', 'Texas', 'Nebraska', 'New Hampshire',\n",
       "       'Vermont', 'Maine'], dtype=object)"
      ]
     },
     "execution_count": 32,
     "metadata": {},
     "output_type": "execute_result"
    }
   ],
   "source": [
    "new_cars_df['dealer_state'].unique()"
   ]
  },
  {
   "cell_type": "markdown",
   "id": "db942bc9-0fd8-4f2f-9cb9-4da770ff3c2f",
   "metadata": {},
   "source": [
    "A new column, `dealer_state` was created to hold the state information obtained from the `dealer_zip` column, providing additional location details for the dataset. This transformation was carried out to enhance the dataset with geographic information."
   ]
  },
  {
   "cell_type": "markdown",
   "id": "785fdb61-1ea6-420f-85dc-86e0ce43f6b9",
   "metadata": {},
   "source": [
    "**Data Transformation Summary**"
   ]
  },
  {
   "cell_type": "code",
   "execution_count": 33,
   "id": "b584fd42-ecbd-4b36-86c3-fc4ba069a769",
   "metadata": {},
   "outputs": [
    {
     "name": "stdout",
     "output_type": "stream",
     "text": [
      "<class 'pandas.core.frame.DataFrame'>\n",
      "Index: 88977 entries, 0 to 100000\n",
      "Data columns (total 24 columns):\n",
      " #   Column                Non-Null Count  Dtype         \n",
      "---  ------                --------------  -----         \n",
      " 0   vin                   88977 non-null  object        \n",
      " 1   body_type             88977 non-null  object        \n",
      " 2   city                  88977 non-null  object        \n",
      " 3   daysonmarket          88977 non-null  int64         \n",
      " 4   dealer_zip            88977 non-null  int64         \n",
      " 5   engine_type           88977 non-null  object        \n",
      " 6   frame_damaged         88977 non-null  int64         \n",
      " 7   fuel_type             88977 non-null  object        \n",
      " 8   horsepower            88977 non-null  int32         \n",
      " 9   is_new                88977 non-null  int64         \n",
      " 10  listed_date           88977 non-null  datetime64[ns]\n",
      " 11  listing_color         88977 non-null  object        \n",
      " 12  make_name             88977 non-null  object        \n",
      " 13  maximum_seating       88977 non-null  int32         \n",
      " 14  mileage               88977 non-null  int32         \n",
      " 15  model_name            88977 non-null  object        \n",
      " 16  owner_count           88977 non-null  int32         \n",
      " 17  price                 88977 non-null  int32         \n",
      " 18  seller_rating         88977 non-null  int32         \n",
      " 19  sp_name               88977 non-null  object        \n",
      " 20  transmission          88977 non-null  object        \n",
      " 21  wheel_system_display  88977 non-null  object        \n",
      " 22  year                  88977 non-null  int64         \n",
      " 23  dealer_state          88977 non-null  object        \n",
      "dtypes: datetime64[ns](1), int32(6), int64(5), object(12)\n",
      "memory usage: 14.9+ MB\n"
     ]
    }
   ],
   "source": [
    "new_cars_df.info()"
   ]
  },
  {
   "cell_type": "code",
   "execution_count": 77,
   "id": "48284e3b-9f58-4a9c-880d-6eec18371b83",
   "metadata": {},
   "outputs": [],
   "source": [
    "new_cars_df.to_csv('data.csv')"
   ]
  },
  {
   "cell_type": "markdown",
   "id": "f906b083-d6a5-4fa0-a891-88af36e5ecd7",
   "metadata": {},
   "source": [
    "After completing all the necessary transformations, the dataset no longer contains any missing or null values. The dataset is now clean and ready for further analysis and is prepared for storage."
   ]
  },
  {
   "cell_type": "markdown",
   "id": "49204d70-c17d-4225-a93e-b237d26429bc",
   "metadata": {},
   "source": [
    "## Data Warehouse Design"
   ]
  },
  {
   "cell_type": "code",
   "execution_count": 34,
   "id": "ea818dff-8431-4052-93e7-f5f1cd7305e2",
   "metadata": {},
   "outputs": [],
   "source": [
    "new_cars_df_copy = new_cars_df.copy()"
   ]
  },
  {
   "cell_type": "markdown",
   "id": "46d6ae52-9421-4657-94af-fdb1d63d8ce0",
   "metadata": {},
   "source": [
    "**Date Dimension**"
   ]
  },
  {
   "cell_type": "code",
   "execution_count": 35,
   "id": "4b6dd0f3-177a-4bcc-9a7c-b64273acefa2",
   "metadata": {},
   "outputs": [
    {
     "data": {
      "text/html": [
       "<div>\n",
       "<style scoped>\n",
       "    .dataframe tbody tr th:only-of-type {\n",
       "        vertical-align: middle;\n",
       "    }\n",
       "\n",
       "    .dataframe tbody tr th {\n",
       "        vertical-align: top;\n",
       "    }\n",
       "\n",
       "    .dataframe thead th {\n",
       "        text-align: right;\n",
       "    }\n",
       "</style>\n",
       "<table border=\"1\" class=\"dataframe\">\n",
       "  <thead>\n",
       "    <tr style=\"text-align: right;\">\n",
       "      <th></th>\n",
       "      <th>date_key</th>\n",
       "      <th>date</th>\n",
       "      <th>short_month</th>\n",
       "      <th>day_of_week</th>\n",
       "      <th>year</th>\n",
       "    </tr>\n",
       "  </thead>\n",
       "  <tbody>\n",
       "    <tr>\n",
       "      <th>0</th>\n",
       "      <td>20190406</td>\n",
       "      <td>2019-04-06</td>\n",
       "      <td>Apr</td>\n",
       "      <td>Saturday</td>\n",
       "      <td>2019</td>\n",
       "    </tr>\n",
       "    <tr>\n",
       "      <th>1</th>\n",
       "      <td>20200215</td>\n",
       "      <td>2020-02-15</td>\n",
       "      <td>Feb</td>\n",
       "      <td>Saturday</td>\n",
       "      <td>2020</td>\n",
       "    </tr>\n",
       "    <tr>\n",
       "      <th>2</th>\n",
       "      <td>20170425</td>\n",
       "      <td>2017-04-25</td>\n",
       "      <td>Apr</td>\n",
       "      <td>Tuesday</td>\n",
       "      <td>2017</td>\n",
       "    </tr>\n",
       "    <tr>\n",
       "      <th>3</th>\n",
       "      <td>20200226</td>\n",
       "      <td>2020-02-26</td>\n",
       "      <td>Feb</td>\n",
       "      <td>Wednesday</td>\n",
       "      <td>2020</td>\n",
       "    </tr>\n",
       "    <tr>\n",
       "      <th>4</th>\n",
       "      <td>20200425</td>\n",
       "      <td>2020-04-25</td>\n",
       "      <td>Apr</td>\n",
       "      <td>Saturday</td>\n",
       "      <td>2020</td>\n",
       "    </tr>\n",
       "  </tbody>\n",
       "</table>\n",
       "</div>"
      ],
      "text/plain": [
       "   date_key       date short_month day_of_week  year\n",
       "0  20190406 2019-04-06         Apr    Saturday  2019\n",
       "1  20200215 2020-02-15         Feb    Saturday  2020\n",
       "2  20170425 2017-04-25         Apr     Tuesday  2017\n",
       "3  20200226 2020-02-26         Feb   Wednesday  2020\n",
       "4  20200425 2020-04-25         Apr    Saturday  2020"
      ]
     },
     "execution_count": 35,
     "metadata": {},
     "output_type": "execute_result"
    }
   ],
   "source": [
    "date_df = new_cars_df[['listed_date']].copy()\n",
    "date_df = date_df.drop_duplicates().reset_index(drop=True)\n",
    "date_df['date_key'] = date_df['listed_date'].dt.strftime('%Y%m%d')\n",
    "date_df['year'] = date_df['listed_date'].dt.year\n",
    "date_df['short_month'] = date_df['listed_date'].dt.strftime('%b')\n",
    "date_df['day_of_week'] = date_df['listed_date'].dt.strftime('%A')\n",
    "date_df.rename(columns={'listed_date': 'date'}, inplace=True)\n",
    "date_df = date_df[['date_key', 'date', 'short_month', 'day_of_week','year']]\n",
    "date_df.head()"
   ]
  },
  {
   "cell_type": "code",
   "execution_count": 36,
   "id": "2844d507-ddac-4318-a4ea-46f624b3d3ed",
   "metadata": {},
   "outputs": [
    {
     "name": "stdout",
     "output_type": "stream",
     "text": [
      "<class 'pandas.core.frame.DataFrame'>\n",
      "RangeIndex: 805 entries, 0 to 804\n",
      "Data columns (total 5 columns):\n",
      " #   Column       Non-Null Count  Dtype         \n",
      "---  ------       --------------  -----         \n",
      " 0   date_key     805 non-null    object        \n",
      " 1   date         805 non-null    datetime64[ns]\n",
      " 2   short_month  805 non-null    object        \n",
      " 3   day_of_week  805 non-null    object        \n",
      " 4   year         805 non-null    int32         \n",
      "dtypes: datetime64[ns](1), int32(1), object(3)\n",
      "memory usage: 28.4+ KB\n"
     ]
    }
   ],
   "source": [
    "date_df.info()"
   ]
  },
  {
   "cell_type": "code",
   "execution_count": 37,
   "id": "9e4f433b-1caf-4e06-a8c5-a609253d246b",
   "metadata": {},
   "outputs": [
    {
     "data": {
      "text/plain": [
       "805"
      ]
     },
     "execution_count": 37,
     "metadata": {},
     "output_type": "execute_result"
    }
   ],
   "source": [
    "new_cars_df_copy['date_key'] = new_cars_df_copy['listed_date'].dt.strftime('%Y%m%d')\n",
    "new_cars_df_copy['date_key'].nunique()"
   ]
  },
  {
   "cell_type": "markdown",
   "id": "a0039c99-75de-4317-b071-316534f8fca8",
   "metadata": {},
   "source": [
    "The Date Dimension is designed to capture and organize information related to dates. It plays a critical role in time-based analysis and reporting."
   ]
  },
  {
   "cell_type": "markdown",
   "id": "88c7f66e-a097-4d88-8a96-0c0ea8933648",
   "metadata": {},
   "source": [
    "**Model Dimension**"
   ]
  },
  {
   "cell_type": "code",
   "execution_count": 38,
   "id": "2779c9c5-bdbc-47c5-b848-0a5e508a582e",
   "metadata": {},
   "outputs": [
    {
     "data": {
      "text/html": [
       "<div>\n",
       "<style scoped>\n",
       "    .dataframe tbody tr th:only-of-type {\n",
       "        vertical-align: middle;\n",
       "    }\n",
       "\n",
       "    .dataframe tbody tr th {\n",
       "        vertical-align: top;\n",
       "    }\n",
       "\n",
       "    .dataframe thead th {\n",
       "        text-align: right;\n",
       "    }\n",
       "</style>\n",
       "<table border=\"1\" class=\"dataframe\">\n",
       "  <thead>\n",
       "    <tr style=\"text-align: right;\">\n",
       "      <th></th>\n",
       "      <th>model_key</th>\n",
       "      <th>make_name</th>\n",
       "      <th>model_name</th>\n",
       "      <th>full_model_name</th>\n",
       "      <th>body_type</th>\n",
       "    </tr>\n",
       "  </thead>\n",
       "  <tbody>\n",
       "    <tr>\n",
       "      <th>0</th>\n",
       "      <td>0</td>\n",
       "      <td>Jeep</td>\n",
       "      <td>Renegade</td>\n",
       "      <td>Jeep Renegade</td>\n",
       "      <td>SUV / Crossover</td>\n",
       "    </tr>\n",
       "    <tr>\n",
       "      <th>1</th>\n",
       "      <td>1</td>\n",
       "      <td>Land Rover</td>\n",
       "      <td>Discovery Sport</td>\n",
       "      <td>Land Rover Discovery Sport</td>\n",
       "      <td>SUV / Crossover</td>\n",
       "    </tr>\n",
       "    <tr>\n",
       "      <th>2</th>\n",
       "      <td>2</td>\n",
       "      <td>Subaru</td>\n",
       "      <td>WRX STI</td>\n",
       "      <td>Subaru WRX STI</td>\n",
       "      <td>Sedan</td>\n",
       "    </tr>\n",
       "    <tr>\n",
       "      <th>3</th>\n",
       "      <td>3</td>\n",
       "      <td>Land Rover</td>\n",
       "      <td>Discovery</td>\n",
       "      <td>Land Rover Discovery</td>\n",
       "      <td>SUV / Crossover</td>\n",
       "    </tr>\n",
       "    <tr>\n",
       "      <th>4</th>\n",
       "      <td>4</td>\n",
       "      <td>Land Rover</td>\n",
       "      <td>Range Rover Velar</td>\n",
       "      <td>Land Rover Range Rover Velar</td>\n",
       "      <td>SUV / Crossover</td>\n",
       "    </tr>\n",
       "  </tbody>\n",
       "</table>\n",
       "</div>"
      ],
      "text/plain": [
       "   model_key   make_name         model_name               full_model_name  \\\n",
       "0          0        Jeep           Renegade                 Jeep Renegade   \n",
       "1          1  Land Rover    Discovery Sport    Land Rover Discovery Sport   \n",
       "2          2      Subaru            WRX STI                Subaru WRX STI   \n",
       "3          3  Land Rover          Discovery          Land Rover Discovery   \n",
       "4          4  Land Rover  Range Rover Velar  Land Rover Range Rover Velar   \n",
       "\n",
       "         body_type  \n",
       "0  SUV / Crossover  \n",
       "1  SUV / Crossover  \n",
       "2            Sedan  \n",
       "3  SUV / Crossover  \n",
       "4  SUV / Crossover  "
      ]
     },
     "execution_count": 38,
     "metadata": {},
     "output_type": "execute_result"
    }
   ],
   "source": [
    "model_df = new_cars_df[['make_name', 'model_name', 'body_type']].copy()\n",
    "model_df = model_df.drop_duplicates().reset_index(drop=True)\n",
    "model_df['full_model_name'] = model_df['make_name'] + ' ' + model_df['model_name']\n",
    "model_df['model_key'] = model_df.index\n",
    "model_df = model_df[['model_key', 'make_name', 'model_name', 'full_model_name','body_type']]\n",
    "model_df.head()"
   ]
  },
  {
   "cell_type": "code",
   "execution_count": 39,
   "id": "1273a3f9-9de9-47de-b1a3-fc44aa745f2d",
   "metadata": {},
   "outputs": [
    {
     "name": "stdout",
     "output_type": "stream",
     "text": [
      "<class 'pandas.core.frame.DataFrame'>\n",
      "RangeIndex: 807 entries, 0 to 806\n",
      "Data columns (total 5 columns):\n",
      " #   Column           Non-Null Count  Dtype \n",
      "---  ------           --------------  ----- \n",
      " 0   model_key        807 non-null    int64 \n",
      " 1   make_name        807 non-null    object\n",
      " 2   model_name       807 non-null    object\n",
      " 3   full_model_name  807 non-null    object\n",
      " 4   body_type        807 non-null    object\n",
      "dtypes: int64(1), object(4)\n",
      "memory usage: 31.7+ KB\n"
     ]
    }
   ],
   "source": [
    "model_df.info()"
   ]
  },
  {
   "cell_type": "code",
   "execution_count": 40,
   "id": "5bf7a6ca-5122-427c-9854-20c58de3284c",
   "metadata": {},
   "outputs": [
    {
     "data": {
      "text/plain": [
       "807"
      ]
     },
     "execution_count": 40,
     "metadata": {},
     "output_type": "execute_result"
    }
   ],
   "source": [
    "new_cars_df_copy = new_cars_df_copy.merge(model_df, on=['make_name', 'model_name', 'body_type'], how='left')\n",
    "new_cars_df_copy['model_key'].nunique()"
   ]
  },
  {
   "cell_type": "markdown",
   "id": "8255a788-45e5-4e8f-9485-5c1c1b6dd661",
   "metadata": {},
   "source": [
    "The Model Dimension contains detailed information about vehicle models and their characteristics, which is crucial for analyzing and reporting on vehicle-related data."
   ]
  },
  {
   "cell_type": "markdown",
   "id": "bbd0c07c-bfd1-4af3-854e-66e77cb59a9b",
   "metadata": {},
   "source": [
    "**Location Dimension**"
   ]
  },
  {
   "cell_type": "code",
   "execution_count": 43,
   "id": "a42adc31-9d37-4a67-b9c9-ff7258279dce",
   "metadata": {},
   "outputs": [
    {
     "data": {
      "text/html": [
       "<div>\n",
       "<style scoped>\n",
       "    .dataframe tbody tr th:only-of-type {\n",
       "        vertical-align: middle;\n",
       "    }\n",
       "\n",
       "    .dataframe tbody tr th {\n",
       "        vertical-align: top;\n",
       "    }\n",
       "\n",
       "    .dataframe thead th {\n",
       "        text-align: right;\n",
       "    }\n",
       "</style>\n",
       "<table border=\"1\" class=\"dataframe\">\n",
       "  <thead>\n",
       "    <tr style=\"text-align: right;\">\n",
       "      <th></th>\n",
       "      <th>location_key</th>\n",
       "      <th>city</th>\n",
       "      <th>state</th>\n",
       "      <th>city_state</th>\n",
       "    </tr>\n",
       "  </thead>\n",
       "  <tbody>\n",
       "    <tr>\n",
       "      <th>0</th>\n",
       "      <td>0</td>\n",
       "      <td>Bayamon</td>\n",
       "      <td>Puerto Rico</td>\n",
       "      <td>Bayamon, Puerto Rico</td>\n",
       "    </tr>\n",
       "    <tr>\n",
       "      <th>1</th>\n",
       "      <td>1</td>\n",
       "      <td>San Juan</td>\n",
       "      <td>Puerto Rico</td>\n",
       "      <td>San Juan, Puerto Rico</td>\n",
       "    </tr>\n",
       "    <tr>\n",
       "      <th>2</th>\n",
       "      <td>2</td>\n",
       "      <td>Guaynabo</td>\n",
       "      <td>Puerto Rico</td>\n",
       "      <td>Guaynabo, Puerto Rico</td>\n",
       "    </tr>\n",
       "    <tr>\n",
       "      <th>3</th>\n",
       "      <td>3</td>\n",
       "      <td>Woodbury</td>\n",
       "      <td>New York</td>\n",
       "      <td>Woodbury, New York</td>\n",
       "    </tr>\n",
       "    <tr>\n",
       "      <th>4</th>\n",
       "      <td>4</td>\n",
       "      <td>Bohemia</td>\n",
       "      <td>New York</td>\n",
       "      <td>Bohemia, New York</td>\n",
       "    </tr>\n",
       "  </tbody>\n",
       "</table>\n",
       "</div>"
      ],
      "text/plain": [
       "   location_key      city        state             city_state\n",
       "0             0   Bayamon  Puerto Rico   Bayamon, Puerto Rico\n",
       "1             1  San Juan  Puerto Rico  San Juan, Puerto Rico\n",
       "2             2  Guaynabo  Puerto Rico  Guaynabo, Puerto Rico\n",
       "3             3  Woodbury     New York     Woodbury, New York\n",
       "4             4   Bohemia     New York      Bohemia, New York"
      ]
     },
     "execution_count": 43,
     "metadata": {},
     "output_type": "execute_result"
    }
   ],
   "source": [
    "location_df = new_cars_df[['city', 'dealer_state']].copy()\n",
    "location_df = location_df.drop_duplicates().reset_index(drop=True)\n",
    "location_df['location_key'] = location_df.index\n",
    "location_df['city_state'] = location_df['city'] + ', ' + location_df['dealer_state']\n",
    "location_df.rename(columns={'dealer_state': 'state'}, inplace=True)\n",
    "location_df = location_df[['location_key', 'city', 'state', 'city_state']]\n",
    "location_df.head()"
   ]
  },
  {
   "cell_type": "code",
   "execution_count": 44,
   "id": "9fe42944-7ecb-4c46-b695-b70b49cfbbc3",
   "metadata": {},
   "outputs": [
    {
     "name": "stdout",
     "output_type": "stream",
     "text": [
      "<class 'pandas.core.frame.DataFrame'>\n",
      "RangeIndex: 439 entries, 0 to 438\n",
      "Data columns (total 4 columns):\n",
      " #   Column        Non-Null Count  Dtype \n",
      "---  ------        --------------  ----- \n",
      " 0   location_key  439 non-null    int64 \n",
      " 1   city          439 non-null    object\n",
      " 2   state         439 non-null    object\n",
      " 3   city_state    439 non-null    object\n",
      "dtypes: int64(1), object(3)\n",
      "memory usage: 13.8+ KB\n"
     ]
    }
   ],
   "source": [
    "location_df.info()"
   ]
  },
  {
   "cell_type": "code",
   "execution_count": 45,
   "id": "e9072efc-0b55-4d5a-859a-5c37a4a7a7b4",
   "metadata": {},
   "outputs": [
    {
     "data": {
      "text/plain": [
       "439"
      ]
     },
     "execution_count": 45,
     "metadata": {},
     "output_type": "execute_result"
    }
   ],
   "source": [
    "new_cars_df_copy = new_cars_df_copy.merge(location_df, left_on=['dealer_state','city'],right_on=['state','city'], how='left')\n",
    "new_cars_df_copy['location_key'].nunique()"
   ]
  },
  {
   "cell_type": "markdown",
   "id": "d25544cd-4c00-4dd0-a89b-7ccb9d543d25",
   "metadata": {},
   "source": [
    "The Location Dimension is created to capture and organize data related to geographic locations, providing insights into regional variations within the dataset."
   ]
  },
  {
   "cell_type": "markdown",
   "id": "63861904-ca11-41d4-9786-e549cd87d52c",
   "metadata": {},
   "source": [
    "**Dealer Dimension**"
   ]
  },
  {
   "cell_type": "code",
   "execution_count": 46,
   "id": "ada299b3-df66-4e9a-990c-526a12fc2163",
   "metadata": {},
   "outputs": [
    {
     "data": {
      "text/html": [
       "<div>\n",
       "<style scoped>\n",
       "    .dataframe tbody tr th:only-of-type {\n",
       "        vertical-align: middle;\n",
       "    }\n",
       "\n",
       "    .dataframe tbody tr th {\n",
       "        vertical-align: top;\n",
       "    }\n",
       "\n",
       "    .dataframe thead th {\n",
       "        text-align: right;\n",
       "    }\n",
       "</style>\n",
       "<table border=\"1\" class=\"dataframe\">\n",
       "  <thead>\n",
       "    <tr style=\"text-align: right;\">\n",
       "      <th></th>\n",
       "      <th>dealer_key</th>\n",
       "      <th>dealer_name</th>\n",
       "      <th>reputation_score</th>\n",
       "    </tr>\n",
       "  </thead>\n",
       "  <tbody>\n",
       "    <tr>\n",
       "      <th>0</th>\n",
       "      <td>0</td>\n",
       "      <td>103 Auto Sales</td>\n",
       "      <td>5</td>\n",
       "    </tr>\n",
       "    <tr>\n",
       "      <th>1</th>\n",
       "      <td>1</td>\n",
       "      <td>112 Auto Plaza</td>\n",
       "      <td>5</td>\n",
       "    </tr>\n",
       "    <tr>\n",
       "      <th>2</th>\n",
       "      <td>2</td>\n",
       "      <td>1st Priority Autos</td>\n",
       "      <td>5</td>\n",
       "    </tr>\n",
       "    <tr>\n",
       "      <th>3</th>\n",
       "      <td>3</td>\n",
       "      <td>21st Century Auto Group</td>\n",
       "      <td>3</td>\n",
       "    </tr>\n",
       "    <tr>\n",
       "      <th>4</th>\n",
       "      <td>4</td>\n",
       "      <td>26 Motors</td>\n",
       "      <td>4</td>\n",
       "    </tr>\n",
       "  </tbody>\n",
       "</table>\n",
       "</div>"
      ],
      "text/plain": [
       "   dealer_key              dealer_name  reputation_score\n",
       "0           0           103 Auto Sales                 5\n",
       "1           1           112 Auto Plaza                 5\n",
       "2           2       1st Priority Autos                 5\n",
       "3           3  21st Century Auto Group                 3\n",
       "4           4                26 Motors                 4"
      ]
     },
     "execution_count": 46,
     "metadata": {},
     "output_type": "execute_result"
    }
   ],
   "source": [
    "dealer_df = new_cars_df[['seller_rating', 'sp_name']].copy()\n",
    "dealer_df = dealer_df.drop_duplicates().reset_index(drop=True)\n",
    "dealer_df = dealer_df.groupby('sp_name').agg({'seller_rating': 'max'}).reset_index()\n",
    "dealer_df['dealer_key'] = dealer_df.index\n",
    "dealer_df = dealer_df.rename(columns={\n",
    "    'dealer_key': 'dealer_key',\n",
    "    'seller_rating': 'reputation_score',\n",
    "    'sp_name': 'dealer_name',\n",
    "})\n",
    "dealer_df= dealer_df[['dealer_key','dealer_name','reputation_score']]\n",
    "dealer_df.head()"
   ]
  },
  {
   "cell_type": "code",
   "execution_count": 47,
   "id": "c93c1dea-479c-466a-bea3-dd7e28a707e3",
   "metadata": {},
   "outputs": [
    {
     "name": "stdout",
     "output_type": "stream",
     "text": [
      "<class 'pandas.core.frame.DataFrame'>\n",
      "RangeIndex: 850 entries, 0 to 849\n",
      "Data columns (total 3 columns):\n",
      " #   Column            Non-Null Count  Dtype \n",
      "---  ------            --------------  ----- \n",
      " 0   dealer_key        850 non-null    int64 \n",
      " 1   dealer_name       850 non-null    object\n",
      " 2   reputation_score  850 non-null    int32 \n",
      "dtypes: int32(1), int64(1), object(1)\n",
      "memory usage: 16.7+ KB\n"
     ]
    }
   ],
   "source": [
    "dealer_df.info()"
   ]
  },
  {
   "cell_type": "code",
   "execution_count": 48,
   "id": "f70fe40d-28c0-421c-833d-1a6d2a259341",
   "metadata": {},
   "outputs": [
    {
     "data": {
      "text/plain": [
       "850"
      ]
     },
     "execution_count": 48,
     "metadata": {},
     "output_type": "execute_result"
    }
   ],
   "source": [
    "new_cars_df_copy = new_cars_df_copy.merge(dealer_df, left_on=['sp_name'],right_on=['dealer_name'], how='left')\n",
    "new_cars_df_copy['dealer_key'].nunique()"
   ]
  },
  {
   "cell_type": "markdown",
   "id": "30362634-01d3-488a-b6ed-666291cd363d",
   "metadata": {},
   "source": [
    "The Dealer Dimension is designed to aggregate essential data pertaining to dealers, emphasizing their reputation scores and names. "
   ]
  },
  {
   "cell_type": "markdown",
   "id": "d875d078-1786-4b71-9ad9-4d638654a79c",
   "metadata": {},
   "source": [
    "**Fact Table**"
   ]
  },
  {
   "cell_type": "code",
   "execution_count": 49,
   "id": "37580abf-6a8a-402f-9372-3df7bd62dd59",
   "metadata": {},
   "outputs": [],
   "source": [
    "fact_table = new_cars_df_copy"
   ]
  },
  {
   "cell_type": "code",
   "execution_count": 51,
   "id": "984b4781-6da3-4d77-b5c6-06d74b708a9d",
   "metadata": {},
   "outputs": [],
   "source": [
    "columns_to_exclude = [\n",
    "    'reputation_score',\n",
    "    'dealer_name',\n",
    "    'city_state',\n",
    "    'state',\n",
    "    'full_model_name',\n",
    "    'dealer_state',\n",
    "    'sp_name',\n",
    "    'seller_rating',\n",
    "    'model_name',\n",
    "    'listed_date',\n",
    "    'city',\n",
    "    'dealer_zip',\n",
    "    'body_type',\n",
    "    'make_name'   \n",
    "]\n",
    "\n",
    "fact_table = fact_table.drop(columns=columns_to_exclude)"
   ]
  },
  {
   "cell_type": "code",
   "execution_count": 52,
   "id": "d2917ad9-11e5-4195-a155-b3849615f744",
   "metadata": {},
   "outputs": [],
   "source": [
    "fact_table = fact_table.rename(columns={\n",
    "    'vin': 'vehicle_vin',\n",
    "    'daysonmarket': 'days_on_market',\n",
    "    'engine_type': 'engine',\n",
    "    'frame_damaged': 'has_accidents',  # Rename 'frame_damaged' to 'has_accidents'\n",
    "    'listing_color': 'color',  # Rename 'listing_color' to 'color'\n",
    "    'maximum_seating': 'seating_capacity',\n",
    "    'transmission': 'transmission',\n",
    "    'wheel_system_display': 'drivetrain',\n",
    "    'year': 'vehicle_year',\n",
    "})"
   ]
  },
  {
   "cell_type": "code",
   "execution_count": 53,
   "id": "4098dd5b-f917-40df-b870-174a37f7e0b7",
   "metadata": {},
   "outputs": [
    {
     "data": {
      "text/html": [
       "<div>\n",
       "<style scoped>\n",
       "    .dataframe tbody tr th:only-of-type {\n",
       "        vertical-align: middle;\n",
       "    }\n",
       "\n",
       "    .dataframe tbody tr th {\n",
       "        vertical-align: top;\n",
       "    }\n",
       "\n",
       "    .dataframe thead th {\n",
       "        text-align: right;\n",
       "    }\n",
       "</style>\n",
       "<table border=\"1\" class=\"dataframe\">\n",
       "  <thead>\n",
       "    <tr style=\"text-align: right;\">\n",
       "      <th></th>\n",
       "      <th>vehicle_vin</th>\n",
       "      <th>days_on_market</th>\n",
       "      <th>engine</th>\n",
       "      <th>has_accidents</th>\n",
       "      <th>fuel_type</th>\n",
       "      <th>horsepower</th>\n",
       "      <th>is_new</th>\n",
       "      <th>color</th>\n",
       "      <th>seating_capacity</th>\n",
       "      <th>mileage</th>\n",
       "      <th>owner_count</th>\n",
       "      <th>price</th>\n",
       "      <th>transmission</th>\n",
       "      <th>drivetrain</th>\n",
       "      <th>vehicle_year</th>\n",
       "      <th>date_key</th>\n",
       "      <th>model_key</th>\n",
       "      <th>location_key</th>\n",
       "      <th>dealer_key</th>\n",
       "    </tr>\n",
       "  </thead>\n",
       "  <tbody>\n",
       "    <tr>\n",
       "      <th>0</th>\n",
       "      <td>ZACNJABB5KPJ92081</td>\n",
       "      <td>522</td>\n",
       "      <td>I4</td>\n",
       "      <td>0</td>\n",
       "      <td>Gasoline</td>\n",
       "      <td>177</td>\n",
       "      <td>1</td>\n",
       "      <td>Yellow</td>\n",
       "      <td>5</td>\n",
       "      <td>7</td>\n",
       "      <td>-1</td>\n",
       "      <td>23141</td>\n",
       "      <td>Automatic</td>\n",
       "      <td>Front-Wheel Drive</td>\n",
       "      <td>2019</td>\n",
       "      <td>20190406</td>\n",
       "      <td>0</td>\n",
       "      <td>0</td>\n",
       "      <td>311</td>\n",
       "    </tr>\n",
       "    <tr>\n",
       "      <th>1</th>\n",
       "      <td>SALCJ2FX1LH858117</td>\n",
       "      <td>207</td>\n",
       "      <td>I4</td>\n",
       "      <td>0</td>\n",
       "      <td>Gasoline</td>\n",
       "      <td>246</td>\n",
       "      <td>1</td>\n",
       "      <td>Black</td>\n",
       "      <td>7</td>\n",
       "      <td>8</td>\n",
       "      <td>-1</td>\n",
       "      <td>46500</td>\n",
       "      <td>Automatic</td>\n",
       "      <td>All-Wheel Drive</td>\n",
       "      <td>2020</td>\n",
       "      <td>20200215</td>\n",
       "      <td>1</td>\n",
       "      <td>1</td>\n",
       "      <td>453</td>\n",
       "    </tr>\n",
       "    <tr>\n",
       "      <th>2</th>\n",
       "      <td>JF1VA2M67G9829723</td>\n",
       "      <td>1233</td>\n",
       "      <td>H4</td>\n",
       "      <td>0</td>\n",
       "      <td>Gasoline</td>\n",
       "      <td>305</td>\n",
       "      <td>0</td>\n",
       "      <td>Unknown</td>\n",
       "      <td>5</td>\n",
       "      <td>23945</td>\n",
       "      <td>3</td>\n",
       "      <td>46995</td>\n",
       "      <td>Manual</td>\n",
       "      <td>All-Wheel Drive</td>\n",
       "      <td>2016</td>\n",
       "      <td>20170425</td>\n",
       "      <td>2</td>\n",
       "      <td>2</td>\n",
       "      <td>297</td>\n",
       "    </tr>\n",
       "    <tr>\n",
       "      <th>3</th>\n",
       "      <td>SALRR2RV0L2433391</td>\n",
       "      <td>196</td>\n",
       "      <td>V6</td>\n",
       "      <td>0</td>\n",
       "      <td>Gasoline</td>\n",
       "      <td>340</td>\n",
       "      <td>1</td>\n",
       "      <td>Gray</td>\n",
       "      <td>7</td>\n",
       "      <td>11</td>\n",
       "      <td>-1</td>\n",
       "      <td>67430</td>\n",
       "      <td>Automatic</td>\n",
       "      <td>All-Wheel Drive</td>\n",
       "      <td>2020</td>\n",
       "      <td>20200226</td>\n",
       "      <td>3</td>\n",
       "      <td>1</td>\n",
       "      <td>453</td>\n",
       "    </tr>\n",
       "    <tr>\n",
       "      <th>4</th>\n",
       "      <td>SALCJ2FXXLH862327</td>\n",
       "      <td>137</td>\n",
       "      <td>I4</td>\n",
       "      <td>0</td>\n",
       "      <td>Gasoline</td>\n",
       "      <td>246</td>\n",
       "      <td>1</td>\n",
       "      <td>Black</td>\n",
       "      <td>7</td>\n",
       "      <td>7</td>\n",
       "      <td>-1</td>\n",
       "      <td>48880</td>\n",
       "      <td>Automatic</td>\n",
       "      <td>All-Wheel Drive</td>\n",
       "      <td>2020</td>\n",
       "      <td>20200425</td>\n",
       "      <td>1</td>\n",
       "      <td>1</td>\n",
       "      <td>453</td>\n",
       "    </tr>\n",
       "  </tbody>\n",
       "</table>\n",
       "</div>"
      ],
      "text/plain": [
       "         vehicle_vin  days_on_market engine  has_accidents fuel_type  \\\n",
       "0  ZACNJABB5KPJ92081             522     I4              0  Gasoline   \n",
       "1  SALCJ2FX1LH858117             207     I4              0  Gasoline   \n",
       "2  JF1VA2M67G9829723            1233     H4              0  Gasoline   \n",
       "3  SALRR2RV0L2433391             196     V6              0  Gasoline   \n",
       "4  SALCJ2FXXLH862327             137     I4              0  Gasoline   \n",
       "\n",
       "   horsepower  is_new    color  seating_capacity  mileage  owner_count  price  \\\n",
       "0         177       1   Yellow                 5        7           -1  23141   \n",
       "1         246       1    Black                 7        8           -1  46500   \n",
       "2         305       0  Unknown                 5    23945            3  46995   \n",
       "3         340       1     Gray                 7       11           -1  67430   \n",
       "4         246       1    Black                 7        7           -1  48880   \n",
       "\n",
       "  transmission         drivetrain  vehicle_year  date_key  model_key  \\\n",
       "0    Automatic  Front-Wheel Drive          2019  20190406          0   \n",
       "1    Automatic    All-Wheel Drive          2020  20200215          1   \n",
       "2       Manual    All-Wheel Drive          2016  20170425          2   \n",
       "3    Automatic    All-Wheel Drive          2020  20200226          3   \n",
       "4    Automatic    All-Wheel Drive          2020  20200425          1   \n",
       "\n",
       "   location_key  dealer_key  \n",
       "0             0         311  \n",
       "1             1         453  \n",
       "2             2         297  \n",
       "3             1         453  \n",
       "4             1         453  "
      ]
     },
     "execution_count": 53,
     "metadata": {},
     "output_type": "execute_result"
    }
   ],
   "source": [
    "fact_table.head()"
   ]
  },
  {
   "cell_type": "code",
   "execution_count": 54,
   "id": "12fe4252-56f6-4b6e-ae46-45705c510697",
   "metadata": {},
   "outputs": [
    {
     "name": "stdout",
     "output_type": "stream",
     "text": [
      "<class 'pandas.core.frame.DataFrame'>\n",
      "RangeIndex: 88977 entries, 0 to 88976\n",
      "Data columns (total 19 columns):\n",
      " #   Column            Non-Null Count  Dtype \n",
      "---  ------            --------------  ----- \n",
      " 0   vehicle_vin       88977 non-null  object\n",
      " 1   days_on_market    88977 non-null  int64 \n",
      " 2   engine            88977 non-null  object\n",
      " 3   has_accidents     88977 non-null  int64 \n",
      " 4   fuel_type         88977 non-null  object\n",
      " 5   horsepower        88977 non-null  int32 \n",
      " 6   is_new            88977 non-null  int64 \n",
      " 7   color             88977 non-null  object\n",
      " 8   seating_capacity  88977 non-null  int32 \n",
      " 9   mileage           88977 non-null  int32 \n",
      " 10  owner_count       88977 non-null  int32 \n",
      " 11  price             88977 non-null  int32 \n",
      " 12  transmission      88977 non-null  object\n",
      " 13  drivetrain        88977 non-null  object\n",
      " 14  vehicle_year      88977 non-null  int64 \n",
      " 15  date_key          88977 non-null  object\n",
      " 16  model_key         88977 non-null  int64 \n",
      " 17  location_key      88977 non-null  int64 \n",
      " 18  dealer_key        88977 non-null  int64 \n",
      "dtypes: int32(5), int64(7), object(7)\n",
      "memory usage: 11.2+ MB\n"
     ]
    }
   ],
   "source": [
    "fact_table.info()"
   ]
  },
  {
   "cell_type": "markdown",
   "id": "2ad8b02e-0ce1-491e-8a68-da8e22c96194",
   "metadata": {},
   "source": [
    "The fact table serves as the central repository for key information on used cars, including their attributes, pricing, and other relevant data. This table is essential for conducting in-depth analysis and generating valuable insights from the dataset."
   ]
  },
  {
   "cell_type": "markdown",
   "id": "4f5cc31c-be1b-4d87-825c-446a7d3fce2f",
   "metadata": {},
   "source": [
    "## Data Warehouse Load"
   ]
  },
  {
   "cell_type": "code",
   "execution_count": 55,
   "id": "1a6c3d66-1061-4aef-8ed9-d7aacc93fbd5",
   "metadata": {},
   "outputs": [
    {
     "name": "stdout",
     "output_type": "stream",
     "text": [
      "Conexión exitosa!!\n",
      "Data Warehouse creado exitosamente\n"
     ]
    }
   ],
   "source": [
    "db_operations.create_data_warehouse()"
   ]
  },
  {
   "cell_type": "code",
   "execution_count": 56,
   "id": "359e3242-e6b4-4628-a5ec-e9406ae98589",
   "metadata": {},
   "outputs": [
    {
     "name": "stdout",
     "output_type": "stream",
     "text": [
      "Conexión exitosa!!\n",
      "Los datos se han cargado en: date_dim\n"
     ]
    }
   ],
   "source": [
    "db_operations.insert_data_warehouse(date_df,'date_dim')"
   ]
  },
  {
   "cell_type": "code",
   "execution_count": 57,
   "id": "25175aa9-9787-46e9-9e6e-d30a3727166e",
   "metadata": {},
   "outputs": [
    {
     "name": "stdout",
     "output_type": "stream",
     "text": [
      "Conexión exitosa!!\n",
      "Los datos se han cargado en: model_dim\n"
     ]
    }
   ],
   "source": [
    "db_operations.insert_data_warehouse(model_df,'model_dim')"
   ]
  },
  {
   "cell_type": "code",
   "execution_count": 58,
   "id": "4b695e33-5096-4a05-bfdc-ef4ae3ca336f",
   "metadata": {},
   "outputs": [
    {
     "name": "stdout",
     "output_type": "stream",
     "text": [
      "Conexión exitosa!!\n",
      "Los datos se han cargado en: location_dim\n"
     ]
    }
   ],
   "source": [
    "db_operations.insert_data_warehouse(location_df,'location_dim')"
   ]
  },
  {
   "cell_type": "code",
   "execution_count": 59,
   "id": "153fe172-5af8-4785-b3c9-0de3c858e801",
   "metadata": {},
   "outputs": [
    {
     "name": "stdout",
     "output_type": "stream",
     "text": [
      "Conexión exitosa!!\n",
      "Los datos se han cargado en: dealer_dim\n"
     ]
    }
   ],
   "source": [
    "db_operations.insert_data_warehouse(dealer_df,'dealer_dim')"
   ]
  },
  {
   "cell_type": "code",
   "execution_count": 60,
   "id": "7baaf265-b18e-4398-9cf7-95688882a9a0",
   "metadata": {},
   "outputs": [
    {
     "name": "stdout",
     "output_type": "stream",
     "text": [
      "Conexión exitosa!!\n",
      "Los datos se han cargado en: used_cars_facts\n"
     ]
    }
   ],
   "source": [
    "db_operations.insert_data_warehouse(fact_table,'used_cars_facts')"
   ]
  }
 ],
 "metadata": {
  "kernelspec": {
   "display_name": "Python 3 (ipykernel)",
   "language": "python",
   "name": "python3"
  },
  "language_info": {
   "codemirror_mode": {
    "name": "ipython",
    "version": 3
   },
   "file_extension": ".py",
   "mimetype": "text/x-python",
   "name": "python",
   "nbconvert_exporter": "python",
   "pygments_lexer": "ipython3",
   "version": "3.11.6"
  }
 },
 "nbformat": 4,
 "nbformat_minor": 5
}
